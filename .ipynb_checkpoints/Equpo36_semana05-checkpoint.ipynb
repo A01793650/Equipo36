{
  "nbformat": 4,
  "nbformat_minor": 0,
  "metadata": {
    "colab": {
      "provenance": []
    },
    "kernelspec": {
      "name": "python3",
      "display_name": "Python 3"
    }
  },
  "cells": [
    {
      "cell_type": "markdown",
      "source": [
        "# **Maestría en Inteligencia Artificial Aplicada**\n",
        "\n",
        "## Curso: **Procesamiento de Lenguaje Natural**\n",
        "\n",
        "### Tecnológico de Monterrey\n",
        "\n",
        "### Prof Luis Eduardo Falcón Morales\n",
        "\n",
        "## Adtividad Semana 5\n",
        "\n",
        "### **Vectores Embebidos Pre-entrenados: Fasttext**"
      ],
      "metadata": {
        "id": "lNl8G3vHkPSX"
      }
    },
    {
      "cell_type": "markdown",
      "source": [
        "#### **Nombres y matrículas de los integrantes del equipo:**\n",
        "\n",
        "\n",
        "*   Nathalia Prada - A01793999\n",
        "*   Jessica Paola Pulido  - A01793650\n",
        "*   Isaid Posadas Oropeza - A01795015\n",
        "*   Sergio Pulido Morales - A01794935\n",
        "*   Carlos Mariano Ramírez Amaya - A01795036\n",
        "\n"
      ],
      "metadata": {
        "id": "U69mHA6i201G"
      }
    },
    {
      "cell_type": "code",
      "metadata": {
        "id": "wCL2p6MA8NuT",
        "colab": {
          "base_uri": "https://localhost:8080/"
        },
        "outputId": "ce69496e-0b41-4675-bf6f-965f8125238a"
      },
      "source": [
        "# Aquí deberás incluir todas las librerías que requieras durante esta actividad:\n",
        "import pandas as pd\n",
        "import re\n",
        "import nltk\n",
        "from nltk.corpus import stopwords\n",
        "from nltk.tokenize import word_tokenize, RegexpTokenizer\n",
        "from nltk.stem import WordNetLemmatizer\n",
        "from sklearn.model_selection import train_test_split\n",
        "from collections import Counter\n",
        "import fasttext\n",
        "import fasttext.util\n",
        "import numpy as np\n",
        "import pickle\n",
        "from sklearn.linear_model import LogisticRegression\n",
        "from sklearn.ensemble import RandomForestClassifier\n",
        "from sklearn.metrics import accuracy_score, classification_report, confusion_matrix\n",
        "import matplotlib.pyplot as plt\n",
        "import seaborn as sns\n",
        "\n",
        "\n",
        "# Descargar recursos necesarios\n",
        "nltk.download('punkt')\n",
        "nltk.download('stopwords')\n",
        "nltk.download('wordnet')\n",
        "\n",
        "from google.colab import drive\n",
        "drive.mount('/content/drive')\n",
        "\n",
        "import os\n",
        "DIR = \"/content/drive/MyDrive/Colab Notebooks/MNA-TEC/NLP/PRACTICA3\"\n",
        "os.chdir(DIR)"
      ],
      "execution_count": null,
      "outputs": [
        {
          "output_type": "stream",
          "name": "stderr",
          "text": [
            "[nltk_data] Downloading package punkt to /root/nltk_data...\n",
            "[nltk_data]   Package punkt is already up-to-date!\n",
            "[nltk_data] Downloading package stopwords to /root/nltk_data...\n",
            "[nltk_data]   Package stopwords is already up-to-date!\n",
            "[nltk_data] Downloading package wordnet to /root/nltk_data...\n",
            "[nltk_data]   Package wordnet is already up-to-date!\n"
          ]
        },
        {
          "output_type": "stream",
          "name": "stdout",
          "text": [
            "Drive already mounted at /content/drive; to attempt to forcibly remount, call drive.mount(\"/content/drive\", force_remount=True).\n"
          ]
        }
      ]
    },
    {
      "cell_type": "markdown",
      "source": [
        "##**Pregunta - 1:**\n",
        "\n"
      ],
      "metadata": {
        "id": "4c34ZOnna3Gu"
      }
    },
    {
      "cell_type": "markdown",
      "source": [
        "Descarga los 3 archivos de Canvas y genera un nuevo DataFrame de Pandas con ellos.\n",
        "\n",
        "**Llama simplemente \"df\" a dicho DataFrame.**\n",
        "\n",
        "Los archivos los encuentras en Canvas: amazon5.txt, imdb5.txt, yelp5.txt.\n",
        "\n"
      ],
      "metadata": {
        "id": "yeNllxRdmeWg"
      }
    },
    {
      "cell_type": "code",
      "source": [
        "# ******* Incluye a continuación todas las líneas de código y celdas que requieras: ***********\n",
        "# Cargar los archivos\n",
        "dfa = pd.read_csv('/content/drive/MyDrive/Colab Notebooks/MNA-TEC/NLP/PRACTICA3/amazon5.txt', sep='\\t', header=None, names=['review', 'label'])\n",
        "dfi = pd.read_csv('/content/drive/MyDrive/Colab Notebooks/MNA-TEC/NLP/PRACTICA3/imdb5.txt', sep='\\t', header=None, names=['review', 'label'])\n",
        "dfy = pd.read_csv('/content/drive/MyDrive/Colab Notebooks/MNA-TEC/NLP/PRACTICA3/yelp5.txt', sep='\\t', header=None, names=['review', 'label'])\n",
        "\n",
        "# Combinar los DataFrames en uno solo\n",
        "df = pd.concat([dfa, dfi, dfy], ignore_index=True)\n",
        "\n",
        "\n",
        "\n",
        "# *********** Aquí termina la sección de agregar código *************\n"
      ],
      "metadata": {
        "id": "T_lyEFRkxzC6"
      },
      "execution_count": null,
      "outputs": []
    },
    {
      "cell_type": "code",
      "source": [
        "# Verifiquemos la información del DataFrame:\n",
        "df.info()"
      ],
      "metadata": {
        "id": "3-w1xMLYnm9b",
        "colab": {
          "base_uri": "https://localhost:8080/"
        },
        "outputId": "80ec559b-d48d-4986-f94c-6fa74a843592"
      },
      "execution_count": null,
      "outputs": [
        {
          "output_type": "stream",
          "name": "stdout",
          "text": [
            "<class 'pandas.core.frame.DataFrame'>\n",
            "RangeIndex: 3000 entries, 0 to 2999\n",
            "Data columns (total 2 columns):\n",
            " #   Column  Non-Null Count  Dtype  \n",
            "---  ------  --------------  -----  \n",
            " 0   review  3000 non-null   object \n",
            " 1   label   2000 non-null   float64\n",
            "dtypes: float64(1), object(1)\n",
            "memory usage: 47.0+ KB\n"
          ]
        }
      ]
    },
    {
      "cell_type": "code",
      "source": [
        "# Y veamos sus primeros registros:\n",
        "\n",
        "df.head()"
      ],
      "metadata": {
        "id": "NfVUcYe1nubT",
        "colab": {
          "base_uri": "https://localhost:8080/",
          "height": 206
        },
        "outputId": "82baf3a6-099d-4165-c324-25fcfbf60293"
      },
      "execution_count": null,
      "outputs": [
        {
          "output_type": "execute_result",
          "data": {
            "text/plain": [
              "                                              review  label\n",
              "0  So there is no way for me to plug it in here i...    0.0\n",
              "1                        Good case, Excellent value.    1.0\n",
              "2                             Great for the jawbone.    1.0\n",
              "3  Tied to charger for conversations lasting more...    0.0\n",
              "4                                  The mic is great.    1.0"
            ],
            "text/html": [
              "\n",
              "  <div id=\"df-e6e09954-1188-42f3-8705-6f3c28577628\" class=\"colab-df-container\">\n",
              "    <div>\n",
              "<style scoped>\n",
              "    .dataframe tbody tr th:only-of-type {\n",
              "        vertical-align: middle;\n",
              "    }\n",
              "\n",
              "    .dataframe tbody tr th {\n",
              "        vertical-align: top;\n",
              "    }\n",
              "\n",
              "    .dataframe thead th {\n",
              "        text-align: right;\n",
              "    }\n",
              "</style>\n",
              "<table border=\"1\" class=\"dataframe\">\n",
              "  <thead>\n",
              "    <tr style=\"text-align: right;\">\n",
              "      <th></th>\n",
              "      <th>review</th>\n",
              "      <th>label</th>\n",
              "    </tr>\n",
              "  </thead>\n",
              "  <tbody>\n",
              "    <tr>\n",
              "      <th>0</th>\n",
              "      <td>So there is no way for me to plug it in here i...</td>\n",
              "      <td>0.0</td>\n",
              "    </tr>\n",
              "    <tr>\n",
              "      <th>1</th>\n",
              "      <td>Good case, Excellent value.</td>\n",
              "      <td>1.0</td>\n",
              "    </tr>\n",
              "    <tr>\n",
              "      <th>2</th>\n",
              "      <td>Great for the jawbone.</td>\n",
              "      <td>1.0</td>\n",
              "    </tr>\n",
              "    <tr>\n",
              "      <th>3</th>\n",
              "      <td>Tied to charger for conversations lasting more...</td>\n",
              "      <td>0.0</td>\n",
              "    </tr>\n",
              "    <tr>\n",
              "      <th>4</th>\n",
              "      <td>The mic is great.</td>\n",
              "      <td>1.0</td>\n",
              "    </tr>\n",
              "  </tbody>\n",
              "</table>\n",
              "</div>\n",
              "    <div class=\"colab-df-buttons\">\n",
              "\n",
              "  <div class=\"colab-df-container\">\n",
              "    <button class=\"colab-df-convert\" onclick=\"convertToInteractive('df-e6e09954-1188-42f3-8705-6f3c28577628')\"\n",
              "            title=\"Convert this dataframe to an interactive table.\"\n",
              "            style=\"display:none;\">\n",
              "\n",
              "  <svg xmlns=\"http://www.w3.org/2000/svg\" height=\"24px\" viewBox=\"0 -960 960 960\">\n",
              "    <path d=\"M120-120v-720h720v720H120Zm60-500h600v-160H180v160Zm220 220h160v-160H400v160Zm0 220h160v-160H400v160ZM180-400h160v-160H180v160Zm440 0h160v-160H620v160ZM180-180h160v-160H180v160Zm440 0h160v-160H620v160Z\"/>\n",
              "  </svg>\n",
              "    </button>\n",
              "\n",
              "  <style>\n",
              "    .colab-df-container {\n",
              "      display:flex;\n",
              "      gap: 12px;\n",
              "    }\n",
              "\n",
              "    .colab-df-convert {\n",
              "      background-color: #E8F0FE;\n",
              "      border: none;\n",
              "      border-radius: 50%;\n",
              "      cursor: pointer;\n",
              "      display: none;\n",
              "      fill: #1967D2;\n",
              "      height: 32px;\n",
              "      padding: 0 0 0 0;\n",
              "      width: 32px;\n",
              "    }\n",
              "\n",
              "    .colab-df-convert:hover {\n",
              "      background-color: #E2EBFA;\n",
              "      box-shadow: 0px 1px 2px rgba(60, 64, 67, 0.3), 0px 1px 3px 1px rgba(60, 64, 67, 0.15);\n",
              "      fill: #174EA6;\n",
              "    }\n",
              "\n",
              "    .colab-df-buttons div {\n",
              "      margin-bottom: 4px;\n",
              "    }\n",
              "\n",
              "    [theme=dark] .colab-df-convert {\n",
              "      background-color: #3B4455;\n",
              "      fill: #D2E3FC;\n",
              "    }\n",
              "\n",
              "    [theme=dark] .colab-df-convert:hover {\n",
              "      background-color: #434B5C;\n",
              "      box-shadow: 0px 1px 3px 1px rgba(0, 0, 0, 0.15);\n",
              "      filter: drop-shadow(0px 1px 2px rgba(0, 0, 0, 0.3));\n",
              "      fill: #FFFFFF;\n",
              "    }\n",
              "  </style>\n",
              "\n",
              "    <script>\n",
              "      const buttonEl =\n",
              "        document.querySelector('#df-e6e09954-1188-42f3-8705-6f3c28577628 button.colab-df-convert');\n",
              "      buttonEl.style.display =\n",
              "        google.colab.kernel.accessAllowed ? 'block' : 'none';\n",
              "\n",
              "      async function convertToInteractive(key) {\n",
              "        const element = document.querySelector('#df-e6e09954-1188-42f3-8705-6f3c28577628');\n",
              "        const dataTable =\n",
              "          await google.colab.kernel.invokeFunction('convertToInteractive',\n",
              "                                                    [key], {});\n",
              "        if (!dataTable) return;\n",
              "\n",
              "        const docLinkHtml = 'Like what you see? Visit the ' +\n",
              "          '<a target=\"_blank\" href=https://colab.research.google.com/notebooks/data_table.ipynb>data table notebook</a>'\n",
              "          + ' to learn more about interactive tables.';\n",
              "        element.innerHTML = '';\n",
              "        dataTable['output_type'] = 'display_data';\n",
              "        await google.colab.output.renderOutput(dataTable, element);\n",
              "        const docLink = document.createElement('div');\n",
              "        docLink.innerHTML = docLinkHtml;\n",
              "        element.appendChild(docLink);\n",
              "      }\n",
              "    </script>\n",
              "  </div>\n",
              "\n",
              "\n",
              "<div id=\"df-e5e5e695-16d8-428c-8193-bc035a840b4a\">\n",
              "  <button class=\"colab-df-quickchart\" onclick=\"quickchart('df-e5e5e695-16d8-428c-8193-bc035a840b4a')\"\n",
              "            title=\"Suggest charts\"\n",
              "            style=\"display:none;\">\n",
              "\n",
              "<svg xmlns=\"http://www.w3.org/2000/svg\" height=\"24px\"viewBox=\"0 0 24 24\"\n",
              "     width=\"24px\">\n",
              "    <g>\n",
              "        <path d=\"M19 3H5c-1.1 0-2 .9-2 2v14c0 1.1.9 2 2 2h14c1.1 0 2-.9 2-2V5c0-1.1-.9-2-2-2zM9 17H7v-7h2v7zm4 0h-2V7h2v10zm4 0h-2v-4h2v4z\"/>\n",
              "    </g>\n",
              "</svg>\n",
              "  </button>\n",
              "\n",
              "<style>\n",
              "  .colab-df-quickchart {\n",
              "      --bg-color: #E8F0FE;\n",
              "      --fill-color: #1967D2;\n",
              "      --hover-bg-color: #E2EBFA;\n",
              "      --hover-fill-color: #174EA6;\n",
              "      --disabled-fill-color: #AAA;\n",
              "      --disabled-bg-color: #DDD;\n",
              "  }\n",
              "\n",
              "  [theme=dark] .colab-df-quickchart {\n",
              "      --bg-color: #3B4455;\n",
              "      --fill-color: #D2E3FC;\n",
              "      --hover-bg-color: #434B5C;\n",
              "      --hover-fill-color: #FFFFFF;\n",
              "      --disabled-bg-color: #3B4455;\n",
              "      --disabled-fill-color: #666;\n",
              "  }\n",
              "\n",
              "  .colab-df-quickchart {\n",
              "    background-color: var(--bg-color);\n",
              "    border: none;\n",
              "    border-radius: 50%;\n",
              "    cursor: pointer;\n",
              "    display: none;\n",
              "    fill: var(--fill-color);\n",
              "    height: 32px;\n",
              "    padding: 0;\n",
              "    width: 32px;\n",
              "  }\n",
              "\n",
              "  .colab-df-quickchart:hover {\n",
              "    background-color: var(--hover-bg-color);\n",
              "    box-shadow: 0 1px 2px rgba(60, 64, 67, 0.3), 0 1px 3px 1px rgba(60, 64, 67, 0.15);\n",
              "    fill: var(--button-hover-fill-color);\n",
              "  }\n",
              "\n",
              "  .colab-df-quickchart-complete:disabled,\n",
              "  .colab-df-quickchart-complete:disabled:hover {\n",
              "    background-color: var(--disabled-bg-color);\n",
              "    fill: var(--disabled-fill-color);\n",
              "    box-shadow: none;\n",
              "  }\n",
              "\n",
              "  .colab-df-spinner {\n",
              "    border: 2px solid var(--fill-color);\n",
              "    border-color: transparent;\n",
              "    border-bottom-color: var(--fill-color);\n",
              "    animation:\n",
              "      spin 1s steps(1) infinite;\n",
              "  }\n",
              "\n",
              "  @keyframes spin {\n",
              "    0% {\n",
              "      border-color: transparent;\n",
              "      border-bottom-color: var(--fill-color);\n",
              "      border-left-color: var(--fill-color);\n",
              "    }\n",
              "    20% {\n",
              "      border-color: transparent;\n",
              "      border-left-color: var(--fill-color);\n",
              "      border-top-color: var(--fill-color);\n",
              "    }\n",
              "    30% {\n",
              "      border-color: transparent;\n",
              "      border-left-color: var(--fill-color);\n",
              "      border-top-color: var(--fill-color);\n",
              "      border-right-color: var(--fill-color);\n",
              "    }\n",
              "    40% {\n",
              "      border-color: transparent;\n",
              "      border-right-color: var(--fill-color);\n",
              "      border-top-color: var(--fill-color);\n",
              "    }\n",
              "    60% {\n",
              "      border-color: transparent;\n",
              "      border-right-color: var(--fill-color);\n",
              "    }\n",
              "    80% {\n",
              "      border-color: transparent;\n",
              "      border-right-color: var(--fill-color);\n",
              "      border-bottom-color: var(--fill-color);\n",
              "    }\n",
              "    90% {\n",
              "      border-color: transparent;\n",
              "      border-bottom-color: var(--fill-color);\n",
              "    }\n",
              "  }\n",
              "</style>\n",
              "\n",
              "  <script>\n",
              "    async function quickchart(key) {\n",
              "      const quickchartButtonEl =\n",
              "        document.querySelector('#' + key + ' button');\n",
              "      quickchartButtonEl.disabled = true;  // To prevent multiple clicks.\n",
              "      quickchartButtonEl.classList.add('colab-df-spinner');\n",
              "      try {\n",
              "        const charts = await google.colab.kernel.invokeFunction(\n",
              "            'suggestCharts', [key], {});\n",
              "      } catch (error) {\n",
              "        console.error('Error during call to suggestCharts:', error);\n",
              "      }\n",
              "      quickchartButtonEl.classList.remove('colab-df-spinner');\n",
              "      quickchartButtonEl.classList.add('colab-df-quickchart-complete');\n",
              "    }\n",
              "    (() => {\n",
              "      let quickchartButtonEl =\n",
              "        document.querySelector('#df-e5e5e695-16d8-428c-8193-bc035a840b4a button');\n",
              "      quickchartButtonEl.style.display =\n",
              "        google.colab.kernel.accessAllowed ? 'block' : 'none';\n",
              "    })();\n",
              "  </script>\n",
              "</div>\n",
              "    </div>\n",
              "  </div>\n"
            ],
            "application/vnd.google.colaboratory.intrinsic+json": {
              "type": "dataframe",
              "variable_name": "df",
              "summary": "{\n  \"name\": \"df\",\n  \"rows\": 3000,\n  \"fields\": [\n    {\n      \"column\": \"review\",\n      \"properties\": {\n        \"dtype\": \"string\",\n        \"num_unique_values\": 2983,\n        \"samples\": [\n          \"We've tried to like this place but after 10+ times I think we're done with them.\",\n          \"The script is a big flawed mess.    0\",\n          \"It was that loud.Glad to say that the Plantronics 510 maintains a flawless connection to my cell and with no static during normal use.\"\n        ],\n        \"semantic_type\": \"\",\n        \"description\": \"\"\n      }\n    },\n    {\n      \"column\": \"label\",\n      \"properties\": {\n        \"dtype\": \"number\",\n        \"std\": 0.5001250468945398,\n        \"min\": 0.0,\n        \"max\": 1.0,\n        \"num_unique_values\": 2,\n        \"samples\": [\n          1.0,\n          0.0\n        ],\n        \"semantic_type\": \"\",\n        \"description\": \"\"\n      }\n    }\n  ]\n}"
            }
          },
          "metadata": {},
          "execution_count": 78
        }
      ]
    },
    {
      "cell_type": "markdown",
      "source": [
        "##**Pregunta - 2:**"
      ],
      "metadata": {
        "id": "MfZZ0stLmWJN"
      }
    },
    {
      "cell_type": "markdown",
      "source": [
        "Realiza el proceso de limpieza.\n",
        "\n",
        "Aplica el preprocesamiento que consideres adecuado, sin embargo, deberás aplicar necesariamente alguna de las técnicas de lematización.\n",
        "\n",
        "\n",
        "\n",
        "\n",
        "\n",
        "\n",
        "\n",
        "\n",
        "\n"
      ],
      "metadata": {
        "id": "7F6JF5BommZ6"
      }
    },
    {
      "cell_type": "code",
      "source": [
        "\n",
        "# ******* Incluye a continuación todas las líneas de código y celdas que requieras: ***********\n",
        "# Lista de palabras negativas\n",
        "negwords = ['no', 'nor', 'not', 'ain', 'aren', \"aren't\", 'don', \"don't\", 'couldn', \"couldn't\", 'didn', \"didn't\", 'doesn', \"doesn't\", 'hadn', \"hadn't\", 'hasn', \"hasn't\", 'haven', \"haven't\", 'isn', \"isn't\", 'mightn', \"mightn't\", 'mustn', \"mustn't\", 'needn', \"needn't\", 'shan', \"shan't\", 'shouldn', \"shouldn't\", 'wasn', \"wasn't\", 'weren', \"weren't\", 'won', \"won't\", 'wouldn', \"wouldn't\"]\n",
        "\n",
        "# Descartar palabras negativas de las stopwords de NLTK\n",
        "mystopwords = set(stopwords.words('english')) - set(negwords)\n",
        "\n",
        "# Función para manejar contracciones\n",
        "def decontracted(text):\n",
        "    text = re.sub(r\"won't\", \"will not\", text)\n",
        "    text = re.sub(r\"can't\", \"cannot\", text)\n",
        "    text = re.sub(r\"n't\", \" not\", text)\n",
        "    text = re.sub(r\"'re\", \" are\", text)\n",
        "    text = re.sub(r\"'s\", \" is\", text)\n",
        "    text = re.sub(r\"'d\", \" would\", text)\n",
        "    text = re.sub(r\"'ll\", \" will\", text)\n",
        "    text = re.sub(r\"'t\", \" not\", text)\n",
        "    text = re.sub(r\"'ve\", \" have\", text)\n",
        "    text = re.sub(r\"'m\", \" am\", text)\n",
        "    return text\n",
        "\n",
        "# Función de limpieza y tokenización\n",
        "def clean_tok(text):\n",
        "    # Convertir a minúsculas\n",
        "    text = text.lower()\n",
        "    # Manejar contracciones\n",
        "    text = decontracted(text)\n",
        "    # Eliminar caracteres especiales y puntuación\n",
        "    text = re.sub(r'[^a-z\\s]', ' ', text)\n",
        "    # Eliminar espacios en blanco extra\n",
        "    text = re.sub(r'\\s+', ' ', text).strip()\n",
        "    # Tokenizar\n",
        "    words = word_tokenize(text)\n",
        "    # Eliminar palabras de parada\n",
        "    words = [word for word in words if word not in mystopwords]\n",
        "    # Eliminar palabras de una sola letra, incluidas 'a' e 'i'\n",
        "    words = [word for word in words if len(word) > 1]\n",
        "    # Lematización\n",
        "    lemmatizer = WordNetLemmatizer()\n",
        "    words = [lemmatizer.lemmatize(word) for word in words]\n",
        "    # Filtrar tokens por longitud (mayor a 1)\n",
        "    tokens = [token for token in words if len(token) > 1]\n",
        "\n",
        "    return tokens\n",
        "\n",
        "# Aplicar el preprocesamiento a los comentarios\n",
        "df['cleaned_review'] = df['review'].apply(clean_tok)\n",
        "\n",
        "# Dividir en características (Xclean) y etiquetas (Y)\n",
        "Xclean = df['cleaned_review']\n",
        "Y = df['label']\n",
        "\n",
        "\n",
        "\n",
        "\n",
        "# *********** Aquí termina la sección de agregar código *************"
      ],
      "metadata": {
        "id": "TsnvMp-7oYCM"
      },
      "execution_count": null,
      "outputs": []
    },
    {
      "cell_type": "code",
      "source": [
        "# Despleguemos los primeros comentarios después de tu proceso de limpieza:\n",
        "\n",
        "for x in Xclean[0:5]:\n",
        "  print(x)\n"
      ],
      "metadata": {
        "id": "7jlQuoI2o33T",
        "colab": {
          "base_uri": "https://localhost:8080/"
        },
        "outputId": "32262967-c3db-4330-b947-1d55fc28cf8e"
      },
      "execution_count": null,
      "outputs": [
        {
          "output_type": "stream",
          "name": "stdout",
          "text": [
            "['no', 'way', 'plug', 'unless', 'go', 'converter']\n",
            "['good', 'case', 'excellent', 'value']\n",
            "['great', 'jawbone']\n",
            "['tied', 'charger', 'conversation', 'lasting', 'minute', 'major', 'problem']\n",
            "['mic', 'great']\n"
          ]
        }
      ]
    },
    {
      "cell_type": "markdown",
      "source": [
        "**Justificación del proceso de limpieza:**\n",
        "\n",
        "**Conversión a minúsculas:** Asegura que todas las palabras estén en la misma forma, eliminando diferencias entre \"Word\" y \"word\".\n",
        "\n",
        "**Manejo de contracciones:** Expande contracciones comunes para mejorar la precisión del procesamiento de texto.\n",
        "\n",
        "**Eliminación de caracteres especiales y puntuación:** Simplifica el texto eliminando caracteres que no aportan significado.\n",
        "\n",
        "**Eliminación de espacios en blanco extra:** Elimina espacios en blanco adicionales para mantener el texto limpio.\n",
        "\n",
        "**Tokenización:** Divide el texto en palabras individuales.\n",
        "\n",
        "**Eliminación de palabras de parada:** Reduce ruido eliminando palabras comunes pero poco informativas, preservando las palabras negativas para mantener el contexto.\n",
        "\n",
        "**Eliminación de palabras de una sola letra:** Asegura que solo se incluyan palabras significativas en el texto.\n",
        "\n",
        "**Lematización:** Reduce las palabras a su forma base, mejorando la coherencia y reduciendo variabilidad."
      ],
      "metadata": {
        "id": "2GYKxrk_F7aQ"
      }
    },
    {
      "cell_type": "markdown",
      "source": [
        "#**Pregunta - 3:**\n"
      ],
      "metadata": {
        "id": "ygchEdcKqIzU"
      }
    },
    {
      "cell_type": "markdown",
      "source": [
        "\n",
        "Realicemos una partición aleatoria con los mismos porcentajes de la práctica pasada para poder comparar dichos resultados con los de\n",
        "esta actividad, a saber, 70%, 15% y 15%, para entrenamiento, validación y prueba, respectivamente."
      ],
      "metadata": {
        "id": "7wEIOkkl9Dot"
      }
    },
    {
      "cell_type": "code",
      "source": [
        "\n",
        "# ************* Inicia la sección de agregar código:*****************************\n",
        "\n",
        "# Dividir el conjunto de datos en entrenamiento y resto (validación + prueba)\n",
        "x_train, x_temp, y_train, y_temp = train_test_split(Xclean, Y, test_size=0.3, random_state=42)\n",
        "\n",
        "# Dividir el conjunto de datos temporal (validación + prueba) en validación y prueba\n",
        "x_val, x_test, y_val, y_test = train_test_split(x_temp, y_temp, test_size=0.5, random_state=42)\n",
        "\n",
        "\n",
        "\n",
        "# *********** Termina la sección de agregar código *************\n",
        "\n",
        "\n",
        "# verificemos las dimensiones obtenidas:\n",
        "print('X,y Train:', len(x_train), len(y_train))\n",
        "print('X,y Val:', len(x_val), len(y_val))\n",
        "print('X,y Test', len(x_test), len(y_test))"
      ],
      "metadata": {
        "id": "b0SAcYdq9X0w",
        "colab": {
          "base_uri": "https://localhost:8080/"
        },
        "outputId": "fb6983cb-1208-48d1-fd70-8c46042cd888"
      },
      "execution_count": null,
      "outputs": [
        {
          "output_type": "stream",
          "name": "stdout",
          "text": [
            "X,y Train: 2100 2100\n",
            "X,y Val: 450 450\n",
            "X,y Test 450 450\n"
          ]
        }
      ]
    },
    {
      "cell_type": "markdown",
      "source": [
        "#**Pregunta - 4:**"
      ],
      "metadata": {
        "id": "1qjKoEqiqBN1"
      }
    },
    {
      "cell_type": "markdown",
      "source": [
        "\n",
        "\n",
        "Construye tu vocabulario a continuación\n"
      ],
      "metadata": {
        "id": "jENsKiN99r3F"
      }
    },
    {
      "cell_type": "code",
      "source": [
        "# a.\tUsa el conjunto de entrenamiento para generar tu vocabulario\n",
        "#     con un tamaño que consideres adecuado:\n",
        "\n",
        "\n",
        "# ******* Incluye a continuación todas las líneas de código y celdas que requieras: ***********\n",
        "\n",
        "# Contar la frecuencia de las palabras en el conjunto de entrenamiento\n",
        "word_freq = Counter()\n",
        "for review in x_train:\n",
        "    word_freq.update(review)\n",
        "\n",
        "# Filtrar palabras por frecuencia mínima y longitud mínima de caracteres\n",
        "min_freq = 5\n",
        "min_length = 2\n",
        "vocabulary = {word for word, count in word_freq.items() if count >= min_freq and len(word) >= min_length}\n",
        "\n",
        "\n",
        "# *********** Aquí termina la sección de agregar código *************"
      ],
      "metadata": {
        "id": "TzJntmLPqPqC"
      },
      "execution_count": null,
      "outputs": []
    },
    {
      "cell_type": "code",
      "source": [
        "# b.\tIndica el tamaño del vocabulario generado.\n",
        "\n",
        "print('Longitud del vocabulario generado:')\n",
        "\n",
        "\n",
        "# ******* Inicia la sección de agregar código: ***********\n",
        "# Convertir el vocabulario a una lista ordenada\n",
        "vocabulary = sorted(vocabulary)\n",
        "\n",
        "# Mostrar el tamaño del vocabulario generado\n",
        "vocab_size = len(vocabulary)\n",
        "print(f\"Tamaño del vocabulario generado: {vocab_size}\")\n",
        "\n",
        "\n",
        "# *********** Aquí termina la sección de agregar código *************"
      ],
      "metadata": {
        "id": "yTDZ0Rr86CUP",
        "colab": {
          "base_uri": "https://localhost:8080/"
        },
        "outputId": "ec18a057-063b-4c1f-a514-2e4317396438"
      },
      "execution_count": null,
      "outputs": [
        {
          "output_type": "stream",
          "name": "stdout",
          "text": [
            "Longitud del vocabulario generado:\n",
            "Tamaño del vocabulario generado: 547\n"
          ]
        }
      ]
    },
    {
      "cell_type": "markdown",
      "source": [
        "c.\t¿Por qué debe usarse solamente el conjunto de entrenamiento para generar el vocabulario?\n",
        "\n",
        "\n",
        "### ++++++++ Inicia la sección de agregar texto: +++++++++++\n",
        "\n",
        "El vocabulario debe generarse utilizando sólo el conjunto de entrenamiento para evitar la fuga de información (data leakage). La fuga de información ocurre cuando se utilizan datos del conjunto de validación o prueba durante el proceso de entrenamiento, lo que puede llevar a resultados inflados y poco realistas durante la evaluación del modelo. Al generar el vocabulario únicamente a partir del conjunto de entrenamiento, nos aseguramos de que el modelo no se \"entrene\" indirectamente con datos que se utilizarán para evaluar su rendimiento.\n",
        "\n",
        "\n",
        "### ++++++++ Termina la sección de agregar texto: +++++++++++\n"
      ],
      "metadata": {
        "id": "NDa4EhTqrw15"
      }
    },
    {
      "cell_type": "code",
      "source": [
        "# d.\tCon el vocabulario generado, filtra los conjuntos de entrenamiento,\n",
        "#     validación y prueba para que todos los comentarios usen solamente las\n",
        "#     palabras de este vocabulario.\n",
        "\n",
        "#     Llamar train_x, val_x y test_x a estos tres conjuntos.\n",
        "\n",
        "\n",
        "# ******* Incluye a continuación todas las líneas de código y celdas que requieras: ***********\n",
        "\n",
        "\n",
        "# Función para filtrar reseñas según el vocabulario generado\n",
        "def filter_reviews(reviews, vocab):\n",
        "    filtered_reviews = []\n",
        "    for review in reviews:\n",
        "        filtered_words = [word for word in review if word in vocab]\n",
        "        filtered_reviews.append(filtered_words)\n",
        "    return filtered_reviews\n",
        "\n",
        "# Filtrar los conjuntos de entrenamiento, validación y prueba\n",
        "train_x = filter_reviews(x_train, vocabulary)\n",
        "val_x = filter_reviews(x_val, vocabulary)\n",
        "test_x = filter_reviews(x_test, vocabulary)\n",
        "\n",
        "\n",
        "\n",
        "# *********** Aquí termina la sección de agregar código *************\n"
      ],
      "metadata": {
        "id": "7ykjxQI3rpxx"
      },
      "execution_count": null,
      "outputs": []
    },
    {
      "cell_type": "code",
      "source": [
        "# Vemos el resultado de los primeros comentarios del conjunto de entrenamiento:\n",
        "\n",
        "for ss in train_x[0:5]:\n",
        "  print(ss)"
      ],
      "metadata": {
        "id": "iYF2RGuPtQTC",
        "colab": {
          "base_uri": "https://localhost:8080/"
        },
        "outputId": "a29450d9-0b7d-4dce-da25-50ba0cc88b38"
      },
      "execution_count": null,
      "outputs": [
        {
          "output_type": "stream",
          "name": "stdout",
          "text": [
            "['make', 'feel', 'like', 'coming']\n",
            "['keep', 'good', 'work', 'amazon']\n",
            "['not', 'many', 'word', 'say', 'place', 'everything', 'pretty', 'well']\n",
            "['disappointed', 'battery']\n",
            "['film', 'try', 'thriller', 'horror', 'fails']\n"
          ]
        }
      ]
    },
    {
      "cell_type": "markdown",
      "source": [
        "#**Pregunta - 5:**"
      ],
      "metadata": {
        "id": "RS0Hxj25vTWh"
      }
    },
    {
      "cell_type": "markdown",
      "source": [
        "\n",
        "a. Incluye una tabla comparativa de pros y contras entre los modelos FastText, word2vec de Google y Glove de Stanford."
      ],
      "metadata": {
        "id": "CnHHAza5_P5Z"
      }
    },
    {
      "cell_type": "markdown",
      "source": [
        "### ++++++++ Inicia la sección de agregar texto: +++++++++++\n",
        "\n",
        "### Pros y Contras de Modelos de Embedding: FastText, Word2Vec y GloVe\n",
        "\n",
        "| Modelo         | Pros                                                                                          | Contras                                                                                         |\n",
        "|----------------|-----------------------------------------------------------------------------------------------|-------------------------------------------------------------------------------------------------|\n",
        "| **FastText**   | - Captura información de subpalabras y morfología.                                             | - Mayor complejidad y tiempo de entrenamiento comparado con Word2Vec.                           |\n",
        "|                | - Mejor rendimiento en palabras raras y no vistas.                                              | - Los modelos resultantes pueden ser más grandes debido a la representación de subpalabras.     |\n",
        "|                | - Robusto a errores tipográficos y variaciones ortográficas.                                    |                                                                                                 |\n",
        "|                | - Preentrenado en múltiples idiomas, útil para tareas multilingües.                             |                                                                                                 |\n",
        "| **Word2Vec**   | - Simplicidad y velocidad en el entrenamiento.                                                 | - No captura información morfológica, lo que puede ser una limitación para palabras raras.      |\n",
        "|                | - Amplio uso y soporte en la comunidad.                                                        | - No maneja bien palabras fuera del vocabulario.                                                |\n",
        "|                | - Dos variantes: Skip-gram y CBOW, proporcionando flexibilidad según la tarea.                | - La calidad del embedding depende de la calidad y cantidad de datos de entrenamiento.          |\n",
        "| **GloVe**      | - Captura relaciones globales de coocurrencia en el corpus.                                    | - Necesita una gran cantidad de memoria para computar las matrices de coocurrencia.             |\n",
        "|                | - Genera vectores densos que capturan similitudes semánticas más precisas.                     | - El proceso de entrenamiento puede ser más lento y complejo comparado con Word2Vec.            |\n",
        "|                | - Adecuado para capturar relaciones semánticas más precisas a nivel de corpus.                 | - No maneja bien palabras fuera del vocabulario, similar a Word2Vec.                            |\n",
        "\n",
        "\n",
        "Referencias\n",
        "\n",
        "Bojanowski, P., Grave, E., Joulin, A., & Mikolov, T. (2016). FastText: Library for efficient text classification and representation learning. Recuperado de https://fasttext.cc/\n",
        "\n",
        "Mikolov, T., Chen, K., Corrado, G., & Dean, J. (2013). Word2Vec: Tool for computing continuous distributed representations of words. Recuperado de https://code.google.com/archive/p/word2vec/\n",
        "\n",
        "Pennington, J., Socher, R., & Manning, C. D. (2014). GloVe: Global Vectors for Word Representation. Recuperado de https://nlp.stanford.edu/projects/glove/\n",
        "\n",
        "### ++++++++ Termina la sección de agregar texto: +++++++++++\n"
      ],
      "metadata": {
        "id": "uTI9xSgF_Xc8"
      }
    },
    {
      "cell_type": "markdown",
      "source": [
        "#**Pregunta - 6:**\n",
        "\n",
        "Utiliza el modelo FastText de vectores embebidos pre-entrenados de dimensión 300 para generar un nuevo diccionario clave-valor, donde la “clave” será cada token o palabra de tu vocabulario y el “valor” será su vector embebido de dimensión 300.\n",
        "\n",
        "Este diccionario deberá ser del mismo tamaño que el vocabulario previo que hayas construido previamente.\n",
        "\n",
        "Es recomendable que una vez que generes el nuevo vocabulario de vectores embebidos, guardes dicho diccionario en un archivo.\n",
        "\n",
        "Recuerda borrar la variable donde descargaste los 2 millones de vectores embebidos Fasttext.\n",
        "\n"
      ],
      "metadata": {
        "id": "ToqRl7fT_fn2"
      }
    },
    {
      "cell_type": "code",
      "source": [
        "# ******* Incluye a continuación todas las líneas de código y celdas que requieras: ***********\n",
        "# Descargar el modelo preentrenado si no está presente\n",
        "if not os.path.isfile('cc.en.300.bin'):\n",
        "    !wget https://dl.fbaipublicfiles.com/fasttext/vectors-crawl/cc.en.300.bin.gz\n",
        "    !gunzip cc.en.300.bin.gz\n",
        "\n",
        "# Cargar los vectores embebidos pre-entrenados de FastText\n",
        "ft = fasttext.load_model('cc.en.300.bin')\n",
        "\n",
        "# Crear el diccionario clave-valor\n",
        "embedding_dict = {}\n",
        "for word in vocabulary:\n",
        "    embedding_dict[word] = ft.get_word_vector(word)\n",
        "\n",
        "# Guardar el diccionario en un archivo\n",
        "with open('embedding_dict.pkl', 'wb') as f:\n",
        "    pickle.dump(embedding_dict, f)\n",
        "\n",
        "# Liberar memoria RAM\n",
        "del ft\n",
        "\n",
        "print(f\"Tamaño del diccionario de vectores embebidos: {len(embedding_dict)}\")\n",
        "\n",
        "# Verificar el contenido del diccionario\n",
        "for word, vector in list(embedding_dict.items())[:5]:\n",
        "    print(f\"{word}: {vector[:10]}\")  # Imprimir las primeras 10 dimensiones de los primeros 5 vectores embebidos\n",
        "\n",
        "\n",
        "# *********** Aquí termina la sección de agregar código *************"
      ],
      "metadata": {
        "id": "UdK-jMfLxHLY",
        "colab": {
          "base_uri": "https://localhost:8080/"
        },
        "outputId": "d306d30c-ff98-4012-87b8-470462fdff8b"
      },
      "execution_count": null,
      "outputs": [
        {
          "output_type": "stream",
          "name": "stderr",
          "text": [
            "Warning : `load_model` does not return WordVectorModel or SupervisedModel any more, but a `FastText` object which is very similar.\n"
          ]
        },
        {
          "output_type": "stream",
          "name": "stdout",
          "text": [
            "Tamaño del diccionario de vectores embebidos: 547\n",
            "absolutely: [ 0.03210293  0.01745149  0.05291771  0.10526878 -0.02509093 -0.01028738\n",
            "  0.02175203 -0.00126689  0.00229939  0.01423665]\n",
            "acting: [-4.1184839e-02  4.7122799e-03  7.2026908e-02  1.1928349e-01\n",
            " -3.7622489e-02 -3.9108962e-02 -2.1632764e-02 -4.9614705e-02\n",
            "  1.0527298e-04  5.6531560e-02]\n",
            "action: [-0.06413352  0.00685694  0.12332189  0.0667638  -0.02197768  0.02890758\n",
            "  0.07239393 -0.02826048 -0.07797375 -0.01180054]\n",
            "actor: [-0.06485744  0.01499291 -0.02574547  0.03372984 -0.03290331 -0.03788158\n",
            "  0.01258591 -0.11111145  0.01062702  0.09528866]\n",
            "actress: [-0.08137026 -0.00567356 -0.01612702  0.01715918  0.03962094 -0.02128883\n",
            "  0.02017679 -0.0925715  -0.05235764  0.15340894]\n"
          ]
        }
      ]
    },
    {
      "cell_type": "markdown",
      "source": [
        "#**Pregunta - 7:**"
      ],
      "metadata": {
        "id": "W4S7q0yR0Mpi"
      }
    },
    {
      "cell_type": "markdown",
      "source": [
        "\n",
        "\n",
        "Generamos los vectores embebidos a partir de los conjuntos de entrenamiento, validación y preuba.\n",
        "\n",
        "Los llamaremos trainEmb, valEmb y testEmb, respectivamente."
      ],
      "metadata": {
        "id": "VyeOrkoaC1eq"
      }
    },
    {
      "cell_type": "code",
      "source": [
        "# ******* Incluye a continuación todas las líneas de código y celdas que requieras: ***********\n",
        "\n",
        "\n",
        "# Cargar el diccionario de vectores embebidos\n",
        "with open('embedding_dict.pkl', 'rb') as f:\n",
        "    embedding_dict = pickle.load(f)\n",
        "\n",
        "# Función para calcular el vector embebido promedio de un comentario\n",
        "def compute_average_embedding(words, embedding_dict, embedding_dim=300):\n",
        "    embeddings = [embedding_dict[word] for word in words if word in embedding_dict]\n",
        "    if embeddings:\n",
        "        return np.mean(embeddings, axis=0)\n",
        "    else:\n",
        "        return np.zeros(embedding_dim)\n",
        "\n",
        "# Crear los conjuntos de entrenamiento, validación y prueba con vectores embebidos promedio\n",
        "trainEmb = np.array([compute_average_embedding(review, embedding_dict) for review in x_train])\n",
        "valEmb = np.array([compute_average_embedding(review, embedding_dict) for review in x_val])\n",
        "testEmb = np.array([compute_average_embedding(review, embedding_dict) for review in x_test])\n",
        "\n",
        "\n",
        "\n",
        "\n",
        "# *********** Aquí termina la sección de agregar código *************"
      ],
      "metadata": {
        "id": "wnfQpkxg0Usq"
      },
      "execution_count": null,
      "outputs": []
    },
    {
      "cell_type": "code",
      "source": [
        "# Veamos las dimensiones de cada conjunto embebido:\n",
        "\n",
        "print(\"Train-Emb:\", trainEmb.shape)\n",
        "print(\"Val-Emb:\", valEmb.shape)\n",
        "print(\"Test-Emb:\", testEmb.shape)"
      ],
      "metadata": {
        "id": "J3BBF96D0N8Z",
        "colab": {
          "base_uri": "https://localhost:8080/"
        },
        "outputId": "46fd5e41-67f4-4cf6-feb3-3920125a53ff"
      },
      "execution_count": null,
      "outputs": [
        {
          "output_type": "stream",
          "name": "stdout",
          "text": [
            "Train-Emb: (2100, 300)\n",
            "Val-Emb: (450, 300)\n",
            "Test-Emb: (450, 300)\n"
          ]
        }
      ]
    },
    {
      "cell_type": "markdown",
      "source": [
        "#**Pregunta - 8:**\n"
      ],
      "metadata": {
        "id": "pibp1LA91CP_"
      }
    },
    {
      "cell_type": "markdown",
      "source": [
        "\n",
        "Utiliza los modelos de regresión logística y bosque aleatorio (random forest) y encuentra sus desempeños.\n",
        "\n",
        "Compara los resultados con los de la semana anterior."
      ],
      "metadata": {
        "id": "UxC9K0VnGOwG"
      }
    },
    {
      "cell_type": "code",
      "source": [
        "# Eliminar registros con NaN en las etiquetas de entrenamiento\n",
        "train_mask = ~np.isnan(y_train)\n",
        "trainEmb_clean = trainEmb[train_mask]\n",
        "y_train_clean = y_train[train_mask]\n",
        "\n",
        "# Eliminar registros con NaN en las etiquetas de validación\n",
        "val_mask = ~np.isnan(y_val)\n",
        "valEmb_clean = valEmb[val_mask]\n",
        "y_val_clean = y_val[val_mask]\n",
        "\n",
        "# Eliminar registros con NaN en las etiquetas de prueba\n",
        "test_mask = ~np.isnan(y_test)\n",
        "testEmb_clean = testEmb[test_mask]\n",
        "y_test_clean = y_test[test_mask]"
      ],
      "metadata": {
        "id": "Inb9iKqLYggP"
      },
      "execution_count": null,
      "outputs": []
    },
    {
      "cell_type": "code",
      "source": [
        "# REGRESIÓN LOGÍSTICA:\n",
        "\n",
        "# ******* Incluye a continuación todas las líneas de código y celdas que requieras: ***********\n",
        "\n",
        "# Modelo de regresión logística\n",
        "log_reg = LogisticRegression(max_iter=1000)\n",
        "log_reg.fit(trainEmb_clean, y_train_clean)\n",
        "y_pred_log_reg = log_reg.predict(valEmb_clean)\n",
        "\n",
        "# Exactitud en el conjunto de entrenamiento\n",
        "y_pred_log_reg_train = log_reg.predict(trainEmb_clean)\n",
        "accuracy_log_reg_train = accuracy_score(y_train_clean, y_pred_log_reg_train)\n",
        "\n",
        "# Evaluar el modelo de regresión logística\n",
        "accuracy_log_reg = accuracy_score(y_val_clean, y_pred_log_reg)\n",
        "print(\"Exactitud de Regresión Logística en conjunto de entrenamiento:\", accuracy_log_reg_train)\n",
        "print(\"Exactitud de Regresión Logística en conjunto de validación:\", accuracy_log_reg)\n",
        "print(\"Reporte de clasificación de Regresión Logística:\")\n",
        "print(classification_report(y_val_clean, y_pred_log_reg))\n",
        "\n",
        "# *********** Aquí termina la sección de agregar código *************\n"
      ],
      "metadata": {
        "id": "ycwjD8ztGOL7",
        "colab": {
          "base_uri": "https://localhost:8080/"
        },
        "outputId": "4dbaa9cb-53f3-4f93-9c2d-d9e2a47f4612"
      },
      "execution_count": null,
      "outputs": [
        {
          "output_type": "stream",
          "name": "stdout",
          "text": [
            "Exactitud de Regresión Logística en conjunto de entrenamiento: 0.8296189791516895\n",
            "Exactitud de Regresión Logística en conjunto de validación: 0.8006430868167203\n",
            "Reporte de clasificación de Regresión Logística:\n",
            "              precision    recall  f1-score   support\n",
            "\n",
            "         0.0       0.83      0.79      0.81       164\n",
            "         1.0       0.77      0.82      0.79       147\n",
            "\n",
            "    accuracy                           0.80       311\n",
            "   macro avg       0.80      0.80      0.80       311\n",
            "weighted avg       0.80      0.80      0.80       311\n",
            "\n"
          ]
        }
      ]
    },
    {
      "cell_type": "code",
      "source": [
        "# BOSQUE ALEATORIO (Random Forest):\n",
        "\n",
        "# ******* Incluye a continuación todas las líneas de código y celdas que requieras: ***********\n",
        "\n",
        "\n",
        "# Modelo de bosque aleatorio\n",
        "rf = RandomForestClassifier(n_estimators=100, random_state=42)\n",
        "rf.fit(trainEmb_clean, y_train_clean)\n",
        "y_pred_rf = rf.predict(valEmb_clean)\n",
        "\n",
        "# Exactitud en el conjunto de entrenamiento\n",
        "y_pred_rf_train = rf.predict(trainEmb_clean)\n",
        "accuracy_rf_train = accuracy_score(y_train_clean, y_pred_rf_train)\n",
        "\n",
        "# Evaluar el modelo de bosque aleatorio\n",
        "accuracy_rf = accuracy_score(y_val_clean, y_pred_rf)\n",
        "print(\"Exactitud de Bosque Aleatorio en conjunto de entrenamiento:\", accuracy_rf_train)\n",
        "print(\"Exactitud de Bosque Aleatorio en conjunto de validación:\", accuracy_rf)\n",
        "print(\"Reporte de clasificación de Bosque Aleatorio:\")\n",
        "print(classification_report(y_val_clean, y_pred_rf))\n",
        "\n",
        "\n",
        "# *********** Aquí termina la sección de agregar código *************"
      ],
      "metadata": {
        "id": "N4n70GHW0sl3",
        "colab": {
          "base_uri": "https://localhost:8080/"
        },
        "outputId": "d08323b4-d674-4c96-f72e-99ce89d82c0a"
      },
      "execution_count": null,
      "outputs": [
        {
          "output_type": "stream",
          "name": "stdout",
          "text": [
            "Exactitud de Bosque Aleatorio en conjunto de entrenamiento: 0.9791516894320632\n",
            "Exactitud de Bosque Aleatorio en conjunto de validación: 0.77491961414791\n",
            "Reporte de clasificación de Bosque Aleatorio:\n",
            "              precision    recall  f1-score   support\n",
            "\n",
            "         0.0       0.79      0.79      0.79       164\n",
            "         1.0       0.76      0.76      0.76       147\n",
            "\n",
            "    accuracy                           0.77       311\n",
            "   macro avg       0.77      0.77      0.77       311\n",
            "weighted avg       0.77      0.77      0.77       311\n",
            "\n"
          ]
        }
      ]
    },
    {
      "cell_type": "markdown",
      "source": [
        "**Verificación de Sobreajuste**\n",
        "\n",
        "**Regresión Logística:**\n",
        "\n",
        "Exactitud en conjunto de entrenamiento: 82.96%\n",
        "\n",
        "Exactitud en conjunto de validación: 80.06%\n",
        "\n",
        "Interpretación: La diferencia entre las exactitudes en el conjunto de entrenamiento y validación es pequeña, lo cual indica que el modelo no está sobreentrenado.\n",
        "\n",
        "**Bosque Aleatorio:**\n",
        "\n",
        "Exactitud en conjunto de entrenamiento: 97.92%\n",
        "\n",
        "Exactitud en conjunto de validación: 77.49%\n",
        "\n",
        "Interpretación: La diferencia significativa entre las exactitudes en el conjunto de entrenamiento y validación indica que el modelo de Bosque Aleatorio está sobreentrenado.\n",
        "\n",
        "La mejora en la exactitud del modelo de regresión logística con embeddings preentrenados demuestra que este enfoque es prometedor y puede ofrecer una ligera ventaja sobre los enfoques basados en TF-IDF y matrices de conteo."
      ],
      "metadata": {
        "id": "d77VQI7vkFO9"
      }
    },
    {
      "cell_type": "markdown",
      "source": [
        "#**Pregunta - 9:**"
      ],
      "metadata": {
        "id": "WDIiSHvg0_hm"
      }
    },
    {
      "cell_type": "markdown",
      "source": [
        "\n",
        "\n",
        "Reporte del mejor modelo.\n"
      ],
      "metadata": {
        "id": "dJJtALGZHrGk"
      }
    },
    {
      "cell_type": "code",
      "source": [
        "# ******* Incluye a continuación todas las líneas de código y celdas que requieras: ***********\n",
        "#El mejor modelo obtenido fue el de regresión logística con precisión 0.8\n",
        "# Ajustar el modelo de regresión logística con los datos de entrenamiento\n",
        "log_reg = LogisticRegression(max_iter=1000)\n",
        "log_reg.fit(trainEmb_clean, y_train_clean)\n",
        "\n",
        "# Evaluar el modelo en el conjunto de prueba\n",
        "y_pred_log_reg_test = log_reg.predict(testEmb_clean)\n",
        "accuracy_log_reg_test = accuracy_score(y_test_clean, y_pred_log_reg_test)\n",
        "print(\"Exactitud de Regresión Logística en conjunto de prueba:\", accuracy_log_reg_test)\n",
        "\n",
        "# Generar y mostrar el reporte de clasificación\n",
        "print(\"Reporte de clasificación de Regresión Logística en conjunto de prueba:\")\n",
        "print(classification_report(y_test_clean, y_pred_log_reg_test))\n",
        "\n",
        "# Generar la matriz de confusión\n",
        "conf_matrix = confusion_matrix(y_test_clean, y_pred_log_reg_test)\n",
        "\n",
        "# Visualizar la matriz de confusión usando seaborn\n",
        "plt.figure(figsize=(10, 7))\n",
        "sns.heatmap(conf_matrix, annot=True, fmt=\"d\", cmap=\"Blues\", xticklabels=[\"Negativo\", \"Positivo\"], yticklabels=[\"Negativo\", \"Positivo\"])\n",
        "plt.xlabel('Predicción')\n",
        "plt.ylabel('Verdadero')\n",
        "plt.title('Matriz de Confusión - Regresión Logística')\n",
        "plt.show()\n",
        "\n",
        "# *********** Aquí termina la sección de agregar código *************"
      ],
      "metadata": {
        "id": "ETv4VLjP1GYt",
        "colab": {
          "base_uri": "https://localhost:8080/",
          "height": 833
        },
        "outputId": "245d726e-10ce-4250-f59b-5bb0a275b6fc"
      },
      "execution_count": null,
      "outputs": [
        {
          "output_type": "stream",
          "name": "stdout",
          "text": [
            "Exactitud de Regresión Logística en conjunto de prueba: 0.8087248322147651\n",
            "Reporte de clasificación de Regresión Logística en conjunto de prueba:\n",
            "              precision    recall  f1-score   support\n",
            "\n",
            "         0.0       0.83      0.79      0.81       150\n",
            "         1.0       0.79      0.83      0.81       148\n",
            "\n",
            "    accuracy                           0.81       298\n",
            "   macro avg       0.81      0.81      0.81       298\n",
            "weighted avg       0.81      0.81      0.81       298\n",
            "\n"
          ]
        },
        {
          "output_type": "display_data",
          "data": {
            "text/plain": [
              "<Figure size 1000x700 with 2 Axes>"
            ],
            "image/png": "[encoded data removed]"
          },
          "metadata": {}
        }
      ]
    },
    {
      "cell_type": "markdown",
      "source": [
        "#**Pregunta - 10:**"
      ],
      "metadata": {
        "id": "YCkh2WfN1MC1"
      }
    },
    {
      "cell_type": "markdown",
      "source": [
        "\n",
        "\n",
        "Incluye tus comentarios finales de la actividad.\n",
        "\n",
        "### ++++++++ Inicia la sección de agregar texto: +++++++++++\n",
        "\n",
        "### Conclusiones\n",
        "\n",
        "1. **Mejora del Desempeño**:\n",
        "   - La implementación de embeddings pre-entrenados como FastText resultó en una mejora significativa en la precisión del modelo de regresión logística, alcanzando una exactitud del 80.87% en el conjunto de prueba. Esto supera los modelos basados en matrices de conteo y TF-IDF.\n",
        "\n",
        "2. **Balance de Métricas**:\n",
        "   - Las métricas de precisión, recall y F1-score para ambas clases (positiva y negativa) fueron equilibradas y altas, indicando un buen rendimiento del modelo de regresión logística en términos de precisión y capacidad de generalización.\n",
        "\n",
        "3. **Comparación de Modelos**:\n",
        "   - Aunque el modelo de bosque aleatorio mostró un rendimiento excelente en el conjunto de entrenamiento, presentó signos de sobreentrenamiento con un desempeño menor en el conjunto de validación. En contraste, la regresión logística mantuvo un rendimiento consistente entre los conjuntos de entrenamiento y validación.\n",
        "\n",
        "4. **Uso de Embeddings Pre-entrenados**:\n",
        "   - El uso de embeddings pre-entrenados, como FastText, demostró ser una técnica efectiva para mejorar la representación de los textos y, en consecuencia, el rendimiento de los modelos de aprendizaje automático.\n",
        "\n",
        "5. **Recomendación**:\n",
        "   - Se recomienda el uso de embeddings pre-entrenados en conjunto con modelos de regresión logística para tareas de clasificación de texto en el futuro, debido a su capacidad para capturar mejor la semántica de los textos y mejorar la precisión y balance del modelo.\n",
        "\n",
        "\n",
        "\n",
        "\n",
        "\n",
        "\n",
        "\n",
        "\n",
        "\n",
        "### ++++++++ Termina la sección de agregar texto: +++++++++++"
      ],
      "metadata": {
        "id": "4ySFuDQtVuK5"
      }
    },
    {
      "cell_type": "markdown",
      "source": [
        "##**Fin de la Actividad de vectores Embebidos - FastText**"
      ],
      "metadata": {
        "id": "bgKHmQTbWJT1"
      }
    }
  ]
}